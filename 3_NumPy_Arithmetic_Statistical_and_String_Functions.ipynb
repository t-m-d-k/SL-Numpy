{
 "cells": [
  {
   "cell_type": "markdown",
   "id": "71f69af7-b9a3-47b0-b1a7-43d231db8030",
   "metadata": {},
   "source": [
    "# __NumPy Arithmetic Statistical and String Functions__"
   ]
  },
  {
   "cell_type": "markdown",
   "id": "463e7ab1-7426-4526-a13f-dff8ab39f4ed",
   "metadata": {},
   "source": [
    "## __Agenda__\n",
    "\n",
    "In this lesson, we will cover the following concepts with the help of examples:\n",
    "- Arithmetic Operations Using NumPy\n",
    "  * Addition\n",
    "  * Subtraction\n",
    "  * Multiplication\n",
    "  * Division\n",
    "  * Power of\n",
    "- Statistical Function in Numpy\n",
    "  * Calculating Median, Mean, Standard Deviation, and Variance in the Array\n",
    "  * Calculating Percentiles\n",
    "- String Function in Numpy"
   ]
  },
  {
   "cell_type": "markdown",
   "id": "e66cb653-4b00-4156-8ac3-c99f3f935e48",
   "metadata": {},
   "source": [
    "## __1. Arithmetic Operations Using NumPy__ ##\n",
    "### __1.1 Addition__ ###"
   ]
  },
  {
   "cell_type": "code",
   "execution_count": 1,
   "id": "8e576b81-8187-4609-97b1-ed62c206f8d3",
   "metadata": {},
   "outputs": [
    {
     "name": "stdout",
     "output_type": "stream",
     "text": [
      "[40 40 40]\n"
     ]
    }
   ],
   "source": [
    "# Perform element-wise addition of two arrays using the 'np.add' method\n",
    "import numpy as np\n",
    "a = np.array([30,20,10])\n",
    "b = np.array([10,20,30])\n",
    "result = np.add (a,b)\n",
    "print(result)"
   ]
  },
  {
   "cell_type": "markdown",
   "id": "49e66a1a-5c38-490c-b0fe-0d19c4a42974",
   "metadata": {},
   "source": [
    "### __1.2 Subtraction__ ###"
   ]
  },
  {
   "cell_type": "code",
   "execution_count": 2,
   "id": "283afd30-831c-4c1f-98be-a320676b2f09",
   "metadata": {},
   "outputs": [
    {
     "name": "stdout",
     "output_type": "stream",
     "text": [
      "[[20 20 30]\n",
      " [10 40 10]]\n"
     ]
    }
   ],
   "source": [
    "# Perform element-wise subtraction of two arrays using 'np.subtract' method\n",
    "a = np.array([[30,40,60], [50,70,90]])\n",
    "b = np.array([[10,20,30], [40,30,80]])\n",
    "result = np.subtract (a,b)\n",
    "print(result)"
   ]
  },
  {
   "cell_type": "markdown",
   "id": "3e709ed3-fae3-44ab-9001-2369326a3dd4",
   "metadata": {},
   "source": [
    "### __1.3 Multiplication__ ###"
   ]
  },
  {
   "cell_type": "code",
   "execution_count": 3,
   "id": "2e0a5652-5e45-4557-90ef-b6a5ee0e61ff",
   "metadata": {},
   "outputs": [
    {
     "name": "stdout",
     "output_type": "stream",
     "text": [
      "[300 400 300]\n"
     ]
    }
   ],
   "source": [
    "# Perform element-wise multiplication of two arrays using the 'np.multiply' method\n",
    "a = np.array([30,20,10])\n",
    "b = np.array([10,20,30])\n",
    "result = np.multiply (a,b)\n",
    "print(result)"
   ]
  },
  {
   "cell_type": "markdown",
   "id": "ba84975c-4826-422c-b05d-6c1f899406b8",
   "metadata": {},
   "source": [
    "### __1.4 Division__ ###"
   ]
  },
  {
   "cell_type": "code",
   "execution_count": 4,
   "id": "8458d9cc-86e5-41d2-a9db-b652b9c26146",
   "metadata": {},
   "outputs": [
    {
     "name": "stdout",
     "output_type": "stream",
     "text": [
      "[[0.33333333 0.5        0.2       ]\n",
      " [0.66666667 0.5        0.6       ]]\n"
     ]
    }
   ],
   "source": [
    "# Perform element-wise division of two arrays using the 'np.divide' method\n",
    "a = np.array([[1,2,1],[2,2,3]])\n",
    "b = np.array([3,4,5])\n",
    "result = np.divide (a,b)\n",
    "print(result)"
   ]
  },
  {
   "cell_type": "markdown",
   "id": "0a0df077-26b8-4a49-87d7-3c05862413f9",
   "metadata": {},
   "source": [
    "### __1.5 Power of__ ###"
   ]
  },
  {
   "cell_type": "code",
   "execution_count": 5,
   "id": "f7977369-a637-4782-8b0f-b0fa937c1c44",
   "metadata": {},
   "outputs": [
    {
     "name": "stdout",
     "output_type": "stream",
     "text": [
      "[ 4  8 16 32 64]\n"
     ]
    }
   ],
   "source": [
    "# Perform element-wise power operation where each element in 'a' is raised to the corresponding element in 'b' using the 'np.power' method\n",
    "a = [2,2,2,2,2]\n",
    "b = [2,3,4,5,6]\n",
    "c = np.power(a,b)\n",
    "print(c)"
   ]
  },
  {
   "cell_type": "markdown",
   "id": "249cda35-2cf7-4605-9492-6aaf29547b47",
   "metadata": {},
   "source": [
    "## __2. Statistical Function in Numpy__ ##\n",
    "### __2.1 Calculating Median, Mean, Standard Deviation, and Variance in the Array__ ###"
   ]
  },
  {
   "cell_type": "code",
   "execution_count": 6,
   "id": "ce6f29e3-ef36-4964-ab28-5e5c4ad9af1d",
   "metadata": {},
   "outputs": [
    {
     "name": "stdout",
     "output_type": "stream",
     "text": [
      "4.0\n",
      "6.333333333333333\n",
      "6.944222218666553\n",
      "48.22222222222222\n"
     ]
    }
   ],
   "source": [
    "# Median\n",
    "array = np.array([[4,3,2],[10,1,0],[5,8,24]])\n",
    "np.median(array)\n",
    "print(np.median(array))\n",
    "# Mean\n",
    "np.mean(array)\n",
    "print(np.mean(array))\n",
    "# Standard Deviation\n",
    "np.std(array)\n",
    "print(np.std(array))\n",
    "# Variance\n",
    "np.var(array)\n",
    "print(np.var(array))"
   ]
  },
  {
   "cell_type": "markdown",
   "id": "b3c908ef-fb26-4d59-85ac-3e507643252a",
   "metadata": {},
   "source": [
    "### __2.2 Calculating Percentiles__ ###\n",
    "- The `np.percentile()` function is used to compute the nth percentile of the array elements.\n",
    "- The nth percentile value should be in between 0 and 100."
   ]
  },
  {
   "cell_type": "code",
   "execution_count": 7,
   "id": "7f0d73e1-eff0-47cb-9cbe-84dc5dea70cc",
   "metadata": {},
   "outputs": [
    {
     "data": {
      "text/plain": [
       "4.0"
      ]
     },
     "execution_count": 7,
     "metadata": {},
     "output_type": "execute_result"
    }
   ],
   "source": [
    "# Find the value under the 50th percentile of the NumPy array.\n",
    "np.percentile(array,50)"
   ]
  },
  {
   "cell_type": "markdown",
   "id": "65e5fcb5-3f10-476f-b302-ceac8bb76ad0",
   "metadata": {},
   "source": [
    "## __3. String Function in Numpy__ ##"
   ]
  },
  {
   "cell_type": "code",
   "execution_count": 8,
   "id": "39365f76-42ee-4329-964a-d3fd871aabdc",
   "metadata": {},
   "outputs": [
    {
     "name": "stdout",
     "output_type": "stream",
     "text": [
      "['HelloWelcome' 'WorldLearners']\n"
     ]
    }
   ],
   "source": [
    "# Perform element-wise string concatenation for two arrays of string\n",
    "x = np.array(['Hello','World'])\n",
    "y = np.array(['Welcome', 'Learners'])\n",
    "result = np.char.add(x,y)\n",
    "print(result) "
   ]
  },
  {
   "cell_type": "code",
   "execution_count": 9,
   "id": "2f75ebb2-e557-45b2-942c-bc7c8158ed74",
   "metadata": {},
   "outputs": [
    {
     "name": "stdout",
     "output_type": "stream",
     "text": [
      "Hello How Are You\n",
      "Hi How Are You\n"
     ]
    }
   ],
   "source": [
    "# Replacing the old substring with the new substring\n",
    "str = \"Hello How Are You\"\n",
    "print(str)\n",
    "z = np.char.replace (str, 'Hello', 'Hi')\n",
    "print (z)"
   ]
  },
  {
   "cell_type": "code",
   "execution_count": 10,
   "id": "fb8ea5a2-0356-4828-ad5a-9d80f12830fb",
   "metadata": {},
   "outputs": [
    {
     "name": "stdout",
     "output_type": "stream",
     "text": [
      "hello how are you\n",
      "HELLO HOW ARE YOU\n",
      "GREETINGS OF THE DAY\n",
      "greetings of the day\n"
     ]
    }
   ],
   "source": [
    "# Converting all lowercase characters in a string to uppercase and vice-versa\n",
    "str1 = \"hello how are you\"\n",
    "print(str1)\n",
    "z = np.char.upper (str1)\n",
    "print(z)\n",
    "str2 = \"GREETINGS OF THE DAY\"\n",
    "print(str2)\n",
    "s = np.char.lower (str2)\n",
    "print(s)"
   ]
  },
  {
   "cell_type": "markdown",
   "id": "e22f86d8-ff79-4345-b954-11702ab4f71f",
   "metadata": {},
   "source": [
    "## __Assisted Practice__"
   ]
  },
  {
   "cell_type": "markdown",
   "id": "ca2e9fbf-d9b8-4421-a8f4-53934c7e8e67",
   "metadata": {},
   "source": [
    "### __Problem Statement:__\n",
    "\n",
    "Consider the following arrays:\n",
    "\n",
    "- Arrays for Arithmetic Operations:\n",
    "  * Array A: [15, 25, 35, 45, 55]\n",
    "  * Array B: [5, 10, 15, 20, 25]\n",
    "\n",
    "- Array for Statistical Operations:\n",
    "  * Array C: [12, 22, 32, 42, 52, 62, 72, 82, 92, 102]\n",
    "\n",
    "- Arrays for String Functions:\n",
    "  * String Array X: ['Hello', 'Data', 'Science', 'Class', 'Learners']\n",
    "  * String Array Y: ['World', 'Analysis', 'is', 'Fun', '2023']\n",
    "  \n",
    "  \n",
    "__Steps to Perform:__\n",
    "\n",
    "1. Perform element-wise addition, subtraction, multiplication, division, and power operations on Arrays A and B\n",
    "2. Calculate the median, mean, standard deviation, and variance for Array C\n",
    "3. Concatenate corresponding elements of String Arrays X and Y\n",
    "4. Convert all elements in String Array X to uppercase\n",
    "5. Replace a specific substring in String Array Y with another substring"
   ]
  }
 ],
 "metadata": {
  "kernelspec": {
   "display_name": "Python 3 [3.10]",
   "language": "python",
   "name": "python3"
  },
  "language_info": {
   "codemirror_mode": {
    "name": "ipython",
    "version": 3
   },
   "file_extension": ".py",
   "mimetype": "text/x-python",
   "name": "python",
   "nbconvert_exporter": "python",
   "pygments_lexer": "ipython3",
   "version": "3.10.2"
  }
 },
 "nbformat": 4,
 "nbformat_minor": 5
}
